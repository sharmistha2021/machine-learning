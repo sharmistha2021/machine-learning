{
  "cells": [
    {
      "cell_type": "markdown",
      "metadata": {
        "id": "ghldT9dT68VN"
      },
      "source": [
        "#Importing Libraries"
      ]
    },
    {
      "cell_type": "code",
      "execution_count": 1,
      "metadata": {
        "id": "1FFCC6363v4r"
      },
      "outputs": [],
      "source": [
        "import pandas as pd\n",
        "import random\n",
        "from keras.layers import GRU, Dense, Dropout\n",
        "import numpy as np\n",
        "import matplotlib.pyplot as plt\n",
        "from keras.optimizers import Adam\n",
        "import seaborn as sns\n",
        "import matplotlib.dates as mdates\n",
        "import math\n",
        "import tensorflow as tf\n",
        "from sklearn.preprocessing import MinMaxScaler\n",
        "from sklearn.metrics import mean_squared_error\n",
        "from keras.models import Sequential\n",
        "from keras.callbacks import ReduceLROnPlateau"
      ]
    },
    {
      "cell_type": "markdown",
      "metadata": {
        "id": "LynPxoze7GbQ"
      },
      "source": [
        "#Setting random seeds for reproducibility"
      ]
    },
    {
      "cell_type": "code",
      "execution_count": 2,
      "metadata": {
        "id": "yeaSWu7c34-n"
      },
      "outputs": [],
      "source": [
        "np.random.seed(42)\n",
        "tf.random.set_seed(42)\n",
        "random.seed(42)"
      ]
    },
    {
      "cell_type": "markdown",
      "metadata": {
        "id": "Hn4-Q8Gl7JiV"
      },
      "source": [
        "# Loading and preparing the dataset"
      ]
    },
    {
      "cell_type": "code",
      "execution_count": 3,
      "metadata": {
        "colab": {
          "base_uri": "https://localhost:8080/",
          "height": 868
        },
        "id": "AYM9YA8o4AHn",
        "outputId": "24143934-8021-43e7-8755-aebc5d8d7ed0"
      },
      "outputs": [
        {
          "output_type": "stream",
          "name": "stdout",
          "text": [
            "<class 'pandas.core.frame.DataFrame'>\n",
            "RangeIndex: 2338 entries, 0 to 2337\n",
            "Data columns (total 13 columns):\n",
            " #   Column             Non-Null Count  Dtype         \n",
            "---  ------             --------------  -----         \n",
            " 0   Date               2338 non-null   datetime64[ns]\n",
            " 1   Price              2338 non-null   float64       \n",
            " 2   Open               2338 non-null   float64       \n",
            " 3   High               2338 non-null   float64       \n",
            " 4   Low                2338 non-null   float64       \n",
            " 5   Change %           2338 non-null   float64       \n",
            " 6   GDP                2338 non-null   float64       \n",
            " 7   Inflation          2338 non-null   float64       \n",
            " 8   FDI                2338 non-null   float64       \n",
            " 9   Trade Balance      2338 non-null   float64       \n",
            " 10  Unemployment Rate  2338 non-null   float64       \n",
            " 11  Exchange Rate      2338 non-null   float64       \n",
            " 12  Economic Growth    2338 non-null   float64       \n",
            "dtypes: datetime64[ns](1), float64(12)\n",
            "memory usage: 237.6 KB\n"
          ]
        },
        {
          "output_type": "execute_result",
          "data": {
            "text/plain": [
              "Date                 0\n",
              "Price                0\n",
              "Open                 0\n",
              "High                 0\n",
              "Low                  0\n",
              "Change %             0\n",
              "GDP                  0\n",
              "Inflation            0\n",
              "FDI                  0\n",
              "Trade Balance        0\n",
              "Unemployment Rate    0\n",
              "Exchange Rate        0\n",
              "Economic Growth      0\n",
              "dtype: int64"
            ],
            "text/html": [
              "<div>\n",
              "<style scoped>\n",
              "    .dataframe tbody tr th:only-of-type {\n",
              "        vertical-align: middle;\n",
              "    }\n",
              "\n",
              "    .dataframe tbody tr th {\n",
              "        vertical-align: top;\n",
              "    }\n",
              "\n",
              "    .dataframe thead th {\n",
              "        text-align: right;\n",
              "    }\n",
              "</style>\n",
              "<table border=\"1\" class=\"dataframe\">\n",
              "  <thead>\n",
              "    <tr style=\"text-align: right;\">\n",
              "      <th></th>\n",
              "      <th>0</th>\n",
              "    </tr>\n",
              "  </thead>\n",
              "  <tbody>\n",
              "    <tr>\n",
              "      <th>Date</th>\n",
              "      <td>0</td>\n",
              "    </tr>\n",
              "    <tr>\n",
              "      <th>Price</th>\n",
              "      <td>0</td>\n",
              "    </tr>\n",
              "    <tr>\n",
              "      <th>Open</th>\n",
              "      <td>0</td>\n",
              "    </tr>\n",
              "    <tr>\n",
              "      <th>High</th>\n",
              "      <td>0</td>\n",
              "    </tr>\n",
              "    <tr>\n",
              "      <th>Low</th>\n",
              "      <td>0</td>\n",
              "    </tr>\n",
              "    <tr>\n",
              "      <th>Change %</th>\n",
              "      <td>0</td>\n",
              "    </tr>\n",
              "    <tr>\n",
              "      <th>GDP</th>\n",
              "      <td>0</td>\n",
              "    </tr>\n",
              "    <tr>\n",
              "      <th>Inflation</th>\n",
              "      <td>0</td>\n",
              "    </tr>\n",
              "    <tr>\n",
              "      <th>FDI</th>\n",
              "      <td>0</td>\n",
              "    </tr>\n",
              "    <tr>\n",
              "      <th>Trade Balance</th>\n",
              "      <td>0</td>\n",
              "    </tr>\n",
              "    <tr>\n",
              "      <th>Unemployment Rate</th>\n",
              "      <td>0</td>\n",
              "    </tr>\n",
              "    <tr>\n",
              "      <th>Exchange Rate</th>\n",
              "      <td>0</td>\n",
              "    </tr>\n",
              "    <tr>\n",
              "      <th>Economic Growth</th>\n",
              "      <td>0</td>\n",
              "    </tr>\n",
              "  </tbody>\n",
              "</table>\n",
              "</div><br><label><b>dtype:</b> int64</label>"
            ]
          },
          "metadata": {},
          "execution_count": 3
        }
      ],
      "source": [
        "df = pd.read_csv('new30.csv')\n",
        "df['Date'] = pd.to_datetime(df['Date'])\n",
        "df = df.sort_values(by='Date').reset_index(drop=True)\n",
        "df.dropna(inplace=True)\n",
        "\n",
        "df.info()\n",
        "df.describe()\n",
        "df.isnull().sum()"
      ]
    },
    {
      "cell_type": "markdown",
      "metadata": {
        "id": "qgY1BMZw7OYF"
      },
      "source": [
        "# Selecting relevant features for training"
      ]
    },
    {
      "cell_type": "code",
      "execution_count": 4,
      "metadata": {
        "colab": {
          "base_uri": "https://localhost:8080/",
          "height": 206
        },
        "id": "a9E4xX4B4AKx",
        "outputId": "eaad3a92-fabd-47b5-8324-972c36240a5f"
      },
      "outputs": [
        {
          "output_type": "execute_result",
          "data": {
            "text/plain": [
              "        Date    Price     Open     High      Low  Change %   GDP  Inflation  \\\n",
              "0 2013-01-30  1486.56  1486.56  1486.56  1486.56   -0.0061  6.01       7.53   \n",
              "1 2013-01-31  1488.56  1488.56  1488.56  1488.56    0.0013  6.01       7.53   \n",
              "2 2013-02-03  1494.14  1494.14  1494.14  1494.14    0.0037  6.01       7.53   \n",
              "3 2013-02-04  1503.97  1503.97  1503.97  1503.97    0.0066  6.01       7.53   \n",
              "4 2013-02-05  1518.40  1518.40  1518.40  1518.40    0.0096  6.01       7.53   \n",
              "\n",
              "   FDI  Trade Balance  Unemployment Rate  Exchange Rate  Economic Growth  \n",
              "0  2.6          10.83               4.43          77.77             6.01  \n",
              "1  2.6          10.83               4.43          77.82             6.01  \n",
              "2  2.6          10.83               4.43          77.77             6.01  \n",
              "3  2.6          10.83               4.43          77.77             6.01  \n",
              "4  2.6          10.83               4.43          77.82             6.01  "
            ],
            "text/html": [
              "\n",
              "  <div id=\"df-517fe655-10c2-4ee1-8e21-a076b9da9275\" class=\"colab-df-container\">\n",
              "    <div>\n",
              "<style scoped>\n",
              "    .dataframe tbody tr th:only-of-type {\n",
              "        vertical-align: middle;\n",
              "    }\n",
              "\n",
              "    .dataframe tbody tr th {\n",
              "        vertical-align: top;\n",
              "    }\n",
              "\n",
              "    .dataframe thead th {\n",
              "        text-align: right;\n",
              "    }\n",
              "</style>\n",
              "<table border=\"1\" class=\"dataframe\">\n",
              "  <thead>\n",
              "    <tr style=\"text-align: right;\">\n",
              "      <th></th>\n",
              "      <th>Date</th>\n",
              "      <th>Price</th>\n",
              "      <th>Open</th>\n",
              "      <th>High</th>\n",
              "      <th>Low</th>\n",
              "      <th>Change %</th>\n",
              "      <th>GDP</th>\n",
              "      <th>Inflation</th>\n",
              "      <th>FDI</th>\n",
              "      <th>Trade Balance</th>\n",
              "      <th>Unemployment Rate</th>\n",
              "      <th>Exchange Rate</th>\n",
              "      <th>Economic Growth</th>\n",
              "    </tr>\n",
              "  </thead>\n",
              "  <tbody>\n",
              "    <tr>\n",
              "      <th>0</th>\n",
              "      <td>2013-01-30</td>\n",
              "      <td>1486.56</td>\n",
              "      <td>1486.56</td>\n",
              "      <td>1486.56</td>\n",
              "      <td>1486.56</td>\n",
              "      <td>-0.0061</td>\n",
              "      <td>6.01</td>\n",
              "      <td>7.53</td>\n",
              "      <td>2.6</td>\n",
              "      <td>10.83</td>\n",
              "      <td>4.43</td>\n",
              "      <td>77.77</td>\n",
              "      <td>6.01</td>\n",
              "    </tr>\n",
              "    <tr>\n",
              "      <th>1</th>\n",
              "      <td>2013-01-31</td>\n",
              "      <td>1488.56</td>\n",
              "      <td>1488.56</td>\n",
              "      <td>1488.56</td>\n",
              "      <td>1488.56</td>\n",
              "      <td>0.0013</td>\n",
              "      <td>6.01</td>\n",
              "      <td>7.53</td>\n",
              "      <td>2.6</td>\n",
              "      <td>10.83</td>\n",
              "      <td>4.43</td>\n",
              "      <td>77.82</td>\n",
              "      <td>6.01</td>\n",
              "    </tr>\n",
              "    <tr>\n",
              "      <th>2</th>\n",
              "      <td>2013-02-03</td>\n",
              "      <td>1494.14</td>\n",
              "      <td>1494.14</td>\n",
              "      <td>1494.14</td>\n",
              "      <td>1494.14</td>\n",
              "      <td>0.0037</td>\n",
              "      <td>6.01</td>\n",
              "      <td>7.53</td>\n",
              "      <td>2.6</td>\n",
              "      <td>10.83</td>\n",
              "      <td>4.43</td>\n",
              "      <td>77.77</td>\n",
              "      <td>6.01</td>\n",
              "    </tr>\n",
              "    <tr>\n",
              "      <th>3</th>\n",
              "      <td>2013-02-04</td>\n",
              "      <td>1503.97</td>\n",
              "      <td>1503.97</td>\n",
              "      <td>1503.97</td>\n",
              "      <td>1503.97</td>\n",
              "      <td>0.0066</td>\n",
              "      <td>6.01</td>\n",
              "      <td>7.53</td>\n",
              "      <td>2.6</td>\n",
              "      <td>10.83</td>\n",
              "      <td>4.43</td>\n",
              "      <td>77.77</td>\n",
              "      <td>6.01</td>\n",
              "    </tr>\n",
              "    <tr>\n",
              "      <th>4</th>\n",
              "      <td>2013-02-05</td>\n",
              "      <td>1518.40</td>\n",
              "      <td>1518.40</td>\n",
              "      <td>1518.40</td>\n",
              "      <td>1518.40</td>\n",
              "      <td>0.0096</td>\n",
              "      <td>6.01</td>\n",
              "      <td>7.53</td>\n",
              "      <td>2.6</td>\n",
              "      <td>10.83</td>\n",
              "      <td>4.43</td>\n",
              "      <td>77.82</td>\n",
              "      <td>6.01</td>\n",
              "    </tr>\n",
              "  </tbody>\n",
              "</table>\n",
              "</div>\n",
              "    <div class=\"colab-df-buttons\">\n",
              "\n",
              "  <div class=\"colab-df-container\">\n",
              "    <button class=\"colab-df-convert\" onclick=\"convertToInteractive('df-517fe655-10c2-4ee1-8e21-a076b9da9275')\"\n",
              "            title=\"Convert this dataframe to an interactive table.\"\n",
              "            style=\"display:none;\">\n",
              "\n",
              "  <svg xmlns=\"http://www.w3.org/2000/svg\" height=\"24px\" viewBox=\"0 -960 960 960\">\n",
              "    <path d=\"M120-120v-720h720v720H120Zm60-500h600v-160H180v160Zm220 220h160v-160H400v160Zm0 220h160v-160H400v160ZM180-400h160v-160H180v160Zm440 0h160v-160H620v160ZM180-180h160v-160H180v160Zm440 0h160v-160H620v160Z\"/>\n",
              "  </svg>\n",
              "    </button>\n",
              "\n",
              "  <style>\n",
              "    .colab-df-container {\n",
              "      display:flex;\n",
              "      gap: 12px;\n",
              "    }\n",
              "\n",
              "    .colab-df-convert {\n",
              "      background-color: #E8F0FE;\n",
              "      border: none;\n",
              "      border-radius: 50%;\n",
              "      cursor: pointer;\n",
              "      display: none;\n",
              "      fill: #1967D2;\n",
              "      height: 32px;\n",
              "      padding: 0 0 0 0;\n",
              "      width: 32px;\n",
              "    }\n",
              "\n",
              "    .colab-df-convert:hover {\n",
              "      background-color: #E2EBFA;\n",
              "      box-shadow: 0px 1px 2px rgba(60, 64, 67, 0.3), 0px 1px 3px 1px rgba(60, 64, 67, 0.15);\n",
              "      fill: #174EA6;\n",
              "    }\n",
              "\n",
              "    .colab-df-buttons div {\n",
              "      margin-bottom: 4px;\n",
              "    }\n",
              "\n",
              "    [theme=dark] .colab-df-convert {\n",
              "      background-color: #3B4455;\n",
              "      fill: #D2E3FC;\n",
              "    }\n",
              "\n",
              "    [theme=dark] .colab-df-convert:hover {\n",
              "      background-color: #434B5C;\n",
              "      box-shadow: 0px 1px 3px 1px rgba(0, 0, 0, 0.15);\n",
              "      filter: drop-shadow(0px 1px 2px rgba(0, 0, 0, 0.3));\n",
              "      fill: #FFFFFF;\n",
              "    }\n",
              "  </style>\n",
              "\n",
              "    <script>\n",
              "      const buttonEl =\n",
              "        document.querySelector('#df-517fe655-10c2-4ee1-8e21-a076b9da9275 button.colab-df-convert');\n",
              "      buttonEl.style.display =\n",
              "        google.colab.kernel.accessAllowed ? 'block' : 'none';\n",
              "\n",
              "      async function convertToInteractive(key) {\n",
              "        const element = document.querySelector('#df-517fe655-10c2-4ee1-8e21-a076b9da9275');\n",
              "        const dataTable =\n",
              "          await google.colab.kernel.invokeFunction('convertToInteractive',\n",
              "                                                    [key], {});\n",
              "        if (!dataTable) return;\n",
              "\n",
              "        const docLinkHtml = 'Like what you see? Visit the ' +\n",
              "          '<a target=\"_blank\" href=https://colab.research.google.com/notebooks/data_table.ipynb>data table notebook</a>'\n",
              "          + ' to learn more about interactive tables.';\n",
              "        element.innerHTML = '';\n",
              "        dataTable['output_type'] = 'display_data';\n",
              "        await google.colab.output.renderOutput(dataTable, element);\n",
              "        const docLink = document.createElement('div');\n",
              "        docLink.innerHTML = docLinkHtml;\n",
              "        element.appendChild(docLink);\n",
              "      }\n",
              "    </script>\n",
              "  </div>\n",
              "\n",
              "\n",
              "    <div id=\"df-0d8cef8e-100c-44e8-b408-6d0b3acd379c\">\n",
              "      <button class=\"colab-df-quickchart\" onclick=\"quickchart('df-0d8cef8e-100c-44e8-b408-6d0b3acd379c')\"\n",
              "                title=\"Suggest charts\"\n",
              "                style=\"display:none;\">\n",
              "\n",
              "<svg xmlns=\"http://www.w3.org/2000/svg\" height=\"24px\"viewBox=\"0 0 24 24\"\n",
              "     width=\"24px\">\n",
              "    <g>\n",
              "        <path d=\"M19 3H5c-1.1 0-2 .9-2 2v14c0 1.1.9 2 2 2h14c1.1 0 2-.9 2-2V5c0-1.1-.9-2-2-2zM9 17H7v-7h2v7zm4 0h-2V7h2v10zm4 0h-2v-4h2v4z\"/>\n",
              "    </g>\n",
              "</svg>\n",
              "      </button>\n",
              "\n",
              "<style>\n",
              "  .colab-df-quickchart {\n",
              "      --bg-color: #E8F0FE;\n",
              "      --fill-color: #1967D2;\n",
              "      --hover-bg-color: #E2EBFA;\n",
              "      --hover-fill-color: #174EA6;\n",
              "      --disabled-fill-color: #AAA;\n",
              "      --disabled-bg-color: #DDD;\n",
              "  }\n",
              "\n",
              "  [theme=dark] .colab-df-quickchart {\n",
              "      --bg-color: #3B4455;\n",
              "      --fill-color: #D2E3FC;\n",
              "      --hover-bg-color: #434B5C;\n",
              "      --hover-fill-color: #FFFFFF;\n",
              "      --disabled-bg-color: #3B4455;\n",
              "      --disabled-fill-color: #666;\n",
              "  }\n",
              "\n",
              "  .colab-df-quickchart {\n",
              "    background-color: var(--bg-color);\n",
              "    border: none;\n",
              "    border-radius: 50%;\n",
              "    cursor: pointer;\n",
              "    display: none;\n",
              "    fill: var(--fill-color);\n",
              "    height: 32px;\n",
              "    padding: 0;\n",
              "    width: 32px;\n",
              "  }\n",
              "\n",
              "  .colab-df-quickchart:hover {\n",
              "    background-color: var(--hover-bg-color);\n",
              "    box-shadow: 0 1px 2px rgba(60, 64, 67, 0.3), 0 1px 3px 1px rgba(60, 64, 67, 0.15);\n",
              "    fill: var(--button-hover-fill-color);\n",
              "  }\n",
              "\n",
              "  .colab-df-quickchart-complete:disabled,\n",
              "  .colab-df-quickchart-complete:disabled:hover {\n",
              "    background-color: var(--disabled-bg-color);\n",
              "    fill: var(--disabled-fill-color);\n",
              "    box-shadow: none;\n",
              "  }\n",
              "\n",
              "  .colab-df-spinner {\n",
              "    border: 2px solid var(--fill-color);\n",
              "    border-color: transparent;\n",
              "    border-bottom-color: var(--fill-color);\n",
              "    animation:\n",
              "      spin 1s steps(1) infinite;\n",
              "  }\n",
              "\n",
              "  @keyframes spin {\n",
              "    0% {\n",
              "      border-color: transparent;\n",
              "      border-bottom-color: var(--fill-color);\n",
              "      border-left-color: var(--fill-color);\n",
              "    }\n",
              "    20% {\n",
              "      border-color: transparent;\n",
              "      border-left-color: var(--fill-color);\n",
              "      border-top-color: var(--fill-color);\n",
              "    }\n",
              "    30% {\n",
              "      border-color: transparent;\n",
              "      border-left-color: var(--fill-color);\n",
              "      border-top-color: var(--fill-color);\n",
              "      border-right-color: var(--fill-color);\n",
              "    }\n",
              "    40% {\n",
              "      border-color: transparent;\n",
              "      border-right-color: var(--fill-color);\n",
              "      border-top-color: var(--fill-color);\n",
              "    }\n",
              "    60% {\n",
              "      border-color: transparent;\n",
              "      border-right-color: var(--fill-color);\n",
              "    }\n",
              "    80% {\n",
              "      border-color: transparent;\n",
              "      border-right-color: var(--fill-color);\n",
              "      border-bottom-color: var(--fill-color);\n",
              "    }\n",
              "    90% {\n",
              "      border-color: transparent;\n",
              "      border-bottom-color: var(--fill-color);\n",
              "    }\n",
              "  }\n",
              "</style>\n",
              "\n",
              "      <script>\n",
              "        async function quickchart(key) {\n",
              "          const quickchartButtonEl =\n",
              "            document.querySelector('#' + key + ' button');\n",
              "          quickchartButtonEl.disabled = true;  // To prevent multiple clicks.\n",
              "          quickchartButtonEl.classList.add('colab-df-spinner');\n",
              "          try {\n",
              "            const charts = await google.colab.kernel.invokeFunction(\n",
              "                'suggestCharts', [key], {});\n",
              "          } catch (error) {\n",
              "            console.error('Error during call to suggestCharts:', error);\n",
              "          }\n",
              "          quickchartButtonEl.classList.remove('colab-df-spinner');\n",
              "          quickchartButtonEl.classList.add('colab-df-quickchart-complete');\n",
              "        }\n",
              "        (() => {\n",
              "          let quickchartButtonEl =\n",
              "            document.querySelector('#df-0d8cef8e-100c-44e8-b408-6d0b3acd379c button');\n",
              "          quickchartButtonEl.style.display =\n",
              "            google.colab.kernel.accessAllowed ? 'block' : 'none';\n",
              "        })();\n",
              "      </script>\n",
              "    </div>\n",
              "\n",
              "    </div>\n",
              "  </div>\n"
            ],
            "application/vnd.google.colaboratory.intrinsic+json": {
              "type": "dataframe",
              "variable_name": "df",
              "summary": "{\n  \"name\": \"df\",\n  \"rows\": 2338,\n  \"fields\": [\n    {\n      \"column\": \"Date\",\n      \"properties\": {\n        \"dtype\": \"date\",\n        \"min\": \"2013-01-30 00:00:00\",\n        \"max\": \"2022-12-29 00:00:00\",\n        \"num_unique_values\": 2338,\n        \"samples\": [\n          \"2015-10-05 00:00:00\",\n          \"2018-12-12 00:00:00\",\n          \"2014-09-16 00:00:00\"\n        ],\n        \"semantic_type\": \"\",\n        \"description\": \"\"\n      }\n    },\n    {\n      \"column\": \"Price\",\n      \"properties\": {\n        \"dtype\": \"number\",\n        \"std\": 321.2979539673329,\n        \"min\": 979.28,\n        \"max\": 2787.81,\n        \"num_unique_values\": 2303,\n        \"samples\": [\n          2040.26,\n          1915.34,\n          1894.3\n        ],\n        \"semantic_type\": \"\",\n        \"description\": \"\"\n      }\n    },\n    {\n      \"column\": \"Open\",\n      \"properties\": {\n        \"dtype\": \"number\",\n        \"std\": 321.28654390859424,\n        \"min\": 979.28,\n        \"max\": 2787.81,\n        \"num_unique_values\": 2300,\n        \"samples\": [\n          1710.57,\n          2083.49,\n          1468.45\n        ],\n        \"semantic_type\": \"\",\n        \"description\": \"\"\n      }\n    },\n    {\n      \"column\": \"High\",\n      \"properties\": {\n        \"dtype\": \"number\",\n        \"std\": 324.12032488621963,\n        \"min\": 979.28,\n        \"max\": 2807.8,\n        \"num_unique_values\": 2309,\n        \"samples\": [\n          2202.96,\n          1707.22,\n          1912.97\n        ],\n        \"semantic_type\": \"\",\n        \"description\": \"\"\n      }\n    },\n    {\n      \"column\": \"Low\",\n      \"properties\": {\n        \"dtype\": \"number\",\n        \"std\": 319.1680899568555,\n        \"min\": 979.28,\n        \"max\": 2778.12,\n        \"num_unique_values\": 2300,\n        \"samples\": [\n          1710.57,\n          2074.53,\n          1468.45\n        ],\n        \"semantic_type\": \"\",\n        \"description\": \"\"\n      }\n    },\n    {\n      \"column\": \"Change %\",\n      \"properties\": {\n        \"dtype\": \"number\",\n        \"std\": 0.030292257722538896,\n        \"min\": -0.4102,\n        \"max\": 0.7068,\n        \"num_unique_values\": 438,\n        \"samples\": [\n          0.019,\n          0.0019,\n          -0.0052\n        ],\n        \"semantic_type\": \"\",\n        \"description\": \"\"\n      }\n    },\n    {\n      \"column\": \"GDP\",\n      \"properties\": {\n        \"dtype\": \"number\",\n        \"std\": 1.1087100586769534,\n        \"min\": 3.45,\n        \"max\": 7.88,\n        \"num_unique_values\": 10,\n        \"samples\": [\n          6.94,\n          6.06,\n          7.32\n        ],\n        \"semantic_type\": \"\",\n        \"description\": \"\"\n      }\n    },\n    {\n      \"column\": \"Inflation\",\n      \"properties\": {\n        \"dtype\": \"number\",\n        \"std\": 0.8158073135725419,\n        \"min\": 5.51,\n        \"max\": 7.7,\n        \"num_unique_values\": 10,\n        \"samples\": [\n          5.55,\n          6.99,\n          5.54\n        ],\n        \"semantic_type\": \"\",\n        \"description\": \"\"\n      }\n    },\n    {\n      \"column\": \"FDI\",\n      \"properties\": {\n        \"dtype\": \"number\",\n        \"std\": 0.44436206826838465,\n        \"min\": 1.53,\n        \"max\": 2.83,\n        \"num_unique_values\": 10,\n        \"samples\": [\n          1.72,\n          2.54,\n          2.42\n        ],\n        \"semantic_type\": \"\",\n        \"description\": \"\"\n      }\n    },\n    {\n      \"column\": \"Trade Balance\",\n      \"properties\": {\n        \"dtype\": \"number\",\n        \"std\": 5.439049891746405,\n        \"min\": 9.26,\n        \"max\": 26.63,\n        \"num_unique_values\": 10,\n        \"samples\": [\n          20.14,\n          11.3,\n          23.03\n        ],\n        \"semantic_type\": \"\",\n        \"description\": \"\"\n      }\n    },\n    {\n      \"column\": \"Unemployment Rate\",\n      \"properties\": {\n        \"dtype\": \"number\",\n        \"std\": 0.3030701584834919,\n        \"min\": 4.35,\n        \"max\": 5.2,\n        \"num_unique_values\": 8,\n        \"samples\": [\n          4.39,\n          5.2,\n          4.43\n        ],\n        \"semantic_type\": \"\",\n        \"description\": \"\"\n      }\n    },\n    {\n      \"column\": \"Exchange Rate\",\n      \"properties\": {\n        \"dtype\": \"number\",\n        \"std\": 5.150500709413943,\n        \"min\": 77.25,\n        \"max\": 105.82,\n        \"num_unique_values\": 695,\n        \"samples\": [\n          83.035,\n          101.6,\n          80.685\n        ],\n        \"semantic_type\": \"\",\n        \"description\": \"\"\n      }\n    },\n    {\n      \"column\": \"Economic Growth\",\n      \"properties\": {\n        \"dtype\": \"number\",\n        \"std\": 1.1087100586769534,\n        \"min\": 3.45,\n        \"max\": 7.88,\n        \"num_unique_values\": 10,\n        \"samples\": [\n          6.94,\n          6.06,\n          7.32\n        ],\n        \"semantic_type\": \"\",\n        \"description\": \"\"\n      }\n    }\n  ]\n}"
            }
          },
          "metadata": {},
          "execution_count": 4
        }
      ],
      "source": [
        "FEATURES = ['Price', 'Open', 'High', 'Low', 'GDP','Inflation', 'FDI', 'Trade Balance',\n",
        "            'Unemployment Rate', 'Exchange Rate', 'Economic Growth']\n",
        "\n",
        "data_filtered = df[FEATURES]\n",
        "df.head()"
      ]
    },
    {
      "cell_type": "markdown",
      "metadata": {
        "id": "jmi1QaUV7T0t"
      },
      "source": [
        "# Normalizing the data using MinMaxScaler"
      ]
    },
    {
      "cell_type": "code",
      "execution_count": 5,
      "metadata": {
        "id": "j6T4JZbb4ANe"
      },
      "outputs": [],
      "source": [
        "scaler = MinMaxScaler()\n",
        "data_scaled = scaler.fit_transform(data_filtered)"
      ]
    },
    {
      "cell_type": "markdown",
      "metadata": {
        "id": "EDrEh-le7aBl"
      },
      "source": [
        "# Function to create input sequences for time series modeling"
      ]
    },
    {
      "cell_type": "code",
      "execution_count": 6,
      "metadata": {
        "id": "EzRi2qNY4WHv"
      },
      "outputs": [],
      "source": [
        "sequence_length = 50\n",
        "\n",
        "def partition_dataset(sequence_length, data):\n",
        "    x, y = [], []\n",
        "    for i in range(sequence_length, len(data)):\n",
        "        x.append(data[i-sequence_length:i, :])\n",
        "        y.append(data[i, 0])  # Prediction is based on the 'Price' column\n",
        "    return np.array(x), np.array(y)"
      ]
    },
    {
      "cell_type": "markdown",
      "metadata": {
        "id": "zt_DNc-O7fIu"
      },
      "source": [
        "# Dataset partitioning for training and testing"
      ]
    },
    {
      "cell_type": "code",
      "execution_count": 7,
      "metadata": {
        "id": "xzXveShc4WKu"
      },
      "outputs": [],
      "source": [
        "x, y = partition_dataset(sequence_length, data_scaled)\n",
        "split = math.ceil(0.8 * len(x))\n",
        "x_train, y_train = x[:split], y[:split]\n",
        "x_test, y_test = x[split:], y[split:]"
      ]
    },
    {
      "cell_type": "markdown",
      "metadata": {
        "id": "i71E6fcE8FWV"
      },
      "source": [
        "# GRU Model Architecture"
      ]
    },
    {
      "cell_type": "code",
      "execution_count": 8,
      "metadata": {
        "colab": {
          "base_uri": "https://localhost:8080/"
        },
        "id": "wx4t2qYH4eNe",
        "outputId": "285d5718-5585-48f9-cfb0-41a88c903e97"
      },
      "outputs": [
        {
          "output_type": "stream",
          "name": "stderr",
          "text": [
            "/usr/local/lib/python3.11/dist-packages/keras/src/layers/rnn/rnn.py:199: UserWarning: Do not pass an `input_shape`/`input_dim` argument to a layer. When using Sequential models, prefer using an `Input(shape)` object as the first layer in the model instead.\n",
            "  super().__init__(**kwargs)\n"
          ]
        }
      ],
      "source": [
        "model_gru = Sequential()\n",
        "model_gru.add(GRU(256, return_sequences=True, input_shape=(x_train.shape[1], x_train.shape[2])))\n",
        "model_gru.add(Dropout(0.15))\n",
        "model_gru.add(GRU(128, return_sequences=False))\n",
        "#model_gru.add(Dropout(0.1))\n",
        "model_gru.add(Dense(32, activation='relu'))\n",
        "model_gru.add(Dense(1))\n"
      ]
    },
    {
      "cell_type": "markdown",
      "metadata": {
        "id": "JXwZWk6h8IoF"
      },
      "source": [
        "# Compile the model with Adam optimizer and ReduceLROnPlateau callback"
      ]
    },
    {
      "cell_type": "code",
      "execution_count": 9,
      "metadata": {
        "id": "CWhgZBCG4h8O"
      },
      "outputs": [],
      "source": [
        "optimizer = Adam(learning_rate=0.001, clipvalue=1.0)\n",
        "model_gru.compile(optimizer=optimizer, loss='mse')\n",
        "reduce_lr = ReduceLROnPlateau(monitor='val_loss', factor=0.2, patience=3, min_lr=0.0001)"
      ]
    },
    {
      "cell_type": "markdown",
      "metadata": {
        "id": "u5y3LVT38RjN"
      },
      "source": [
        "# Model training with validation split"
      ]
    },
    {
      "cell_type": "code",
      "execution_count": 10,
      "metadata": {
        "colab": {
          "base_uri": "https://localhost:8080/"
        },
        "id": "Slwu9B1Z4iEX",
        "outputId": "edf33e5c-23b3-464c-cab8-7a3594583597"
      },
      "outputs": [
        {
          "output_type": "stream",
          "name": "stdout",
          "text": [
            "Epoch 1/25\n",
            "\u001b[1m52/52\u001b[0m \u001b[32m━━━━━━━━━━━━━━━━━━━━\u001b[0m\u001b[37m\u001b[0m \u001b[1m18s\u001b[0m 245ms/step - loss: 0.0414 - val_loss: 6.9478e-04 - learning_rate: 0.0010\n",
            "Epoch 2/25\n",
            "\u001b[1m52/52\u001b[0m \u001b[32m━━━━━━━━━━━━━━━━━━━━\u001b[0m\u001b[37m\u001b[0m \u001b[1m19s\u001b[0m 215ms/step - loss: 9.2811e-04 - val_loss: 0.0010 - learning_rate: 0.0010\n",
            "Epoch 3/25\n",
            "\u001b[1m52/52\u001b[0m \u001b[32m━━━━━━━━━━━━━━━━━━━━\u001b[0m\u001b[37m\u001b[0m \u001b[1m12s\u001b[0m 235ms/step - loss: 8.6775e-04 - val_loss: 0.0011 - learning_rate: 0.0010\n",
            "Epoch 4/25\n",
            "\u001b[1m52/52\u001b[0m \u001b[32m━━━━━━━━━━━━━━━━━━━━\u001b[0m\u001b[37m\u001b[0m \u001b[1m20s\u001b[0m 229ms/step - loss: 7.5433e-04 - val_loss: 0.0015 - learning_rate: 0.0010\n",
            "Epoch 5/25\n",
            "\u001b[1m52/52\u001b[0m \u001b[32m━━━━━━━━━━━━━━━━━━━━\u001b[0m\u001b[37m\u001b[0m \u001b[1m12s\u001b[0m 239ms/step - loss: 8.0455e-04 - val_loss: 0.0012 - learning_rate: 2.0000e-04\n",
            "Epoch 6/25\n",
            "\u001b[1m52/52\u001b[0m \u001b[32m━━━━━━━━━━━━━━━━━━━━\u001b[0m\u001b[37m\u001b[0m \u001b[1m12s\u001b[0m 237ms/step - loss: 6.8478e-04 - val_loss: 0.0012 - learning_rate: 2.0000e-04\n",
            "Epoch 7/25\n",
            "\u001b[1m52/52\u001b[0m \u001b[32m━━━━━━━━━━━━━━━━━━━━\u001b[0m\u001b[37m\u001b[0m \u001b[1m19s\u001b[0m 206ms/step - loss: 7.1148e-04 - val_loss: 0.0012 - learning_rate: 2.0000e-04\n",
            "Epoch 8/25\n",
            "\u001b[1m52/52\u001b[0m \u001b[32m━━━━━━━━━━━━━━━━━━━━\u001b[0m\u001b[37m\u001b[0m \u001b[1m22s\u001b[0m 233ms/step - loss: 6.7650e-04 - val_loss: 0.0011 - learning_rate: 1.0000e-04\n",
            "Epoch 9/25\n",
            "\u001b[1m52/52\u001b[0m \u001b[32m━━━━━━━━━━━━━━━━━━━━\u001b[0m\u001b[37m\u001b[0m \u001b[1m21s\u001b[0m 241ms/step - loss: 7.1647e-04 - val_loss: 0.0011 - learning_rate: 1.0000e-04\n",
            "Epoch 10/25\n",
            "\u001b[1m52/52\u001b[0m \u001b[32m━━━━━━━━━━━━━━━━━━━━\u001b[0m\u001b[37m\u001b[0m \u001b[1m20s\u001b[0m 235ms/step - loss: 7.2559e-04 - val_loss: 0.0011 - learning_rate: 1.0000e-04\n",
            "Epoch 11/25\n",
            "\u001b[1m52/52\u001b[0m \u001b[32m━━━━━━━━━━━━━━━━━━━━\u001b[0m\u001b[37m\u001b[0m \u001b[1m21s\u001b[0m 240ms/step - loss: 6.7447e-04 - val_loss: 0.0011 - learning_rate: 1.0000e-04\n",
            "Epoch 12/25\n",
            "\u001b[1m52/52\u001b[0m \u001b[32m━━━━━━━━━━━━━━━━━━━━\u001b[0m\u001b[37m\u001b[0m \u001b[1m20s\u001b[0m 227ms/step - loss: 6.8754e-04 - val_loss: 0.0011 - learning_rate: 1.0000e-04\n",
            "Epoch 13/25\n",
            "\u001b[1m52/52\u001b[0m \u001b[32m━━━━━━━━━━━━━━━━━━━━\u001b[0m\u001b[37m\u001b[0m \u001b[1m12s\u001b[0m 229ms/step - loss: 7.1208e-04 - val_loss: 0.0011 - learning_rate: 1.0000e-04\n",
            "Epoch 14/25\n",
            "\u001b[1m52/52\u001b[0m \u001b[32m━━━━━━━━━━━━━━━━━━━━\u001b[0m\u001b[37m\u001b[0m \u001b[1m20s\u001b[0m 215ms/step - loss: 7.0652e-04 - val_loss: 0.0011 - learning_rate: 1.0000e-04\n",
            "Epoch 15/25\n",
            "\u001b[1m52/52\u001b[0m \u001b[32m━━━━━━━━━━━━━━━━━━━━\u001b[0m\u001b[37m\u001b[0m \u001b[1m21s\u001b[0m 225ms/step - loss: 6.8169e-04 - val_loss: 0.0013 - learning_rate: 1.0000e-04\n",
            "Epoch 16/25\n",
            "\u001b[1m52/52\u001b[0m \u001b[32m━━━━━━━━━━━━━━━━━━━━\u001b[0m\u001b[37m\u001b[0m \u001b[1m21s\u001b[0m 230ms/step - loss: 6.4071e-04 - val_loss: 0.0012 - learning_rate: 1.0000e-04\n",
            "Epoch 17/25\n",
            "\u001b[1m52/52\u001b[0m \u001b[32m━━━━━━━━━━━━━━━━━━━━\u001b[0m\u001b[37m\u001b[0m \u001b[1m12s\u001b[0m 238ms/step - loss: 6.8699e-04 - val_loss: 0.0012 - learning_rate: 1.0000e-04\n",
            "Epoch 18/25\n",
            "\u001b[1m52/52\u001b[0m \u001b[32m━━━━━━━━━━━━━━━━━━━━\u001b[0m\u001b[37m\u001b[0m \u001b[1m12s\u001b[0m 228ms/step - loss: 6.6833e-04 - val_loss: 0.0011 - learning_rate: 1.0000e-04\n",
            "Epoch 19/25\n",
            "\u001b[1m52/52\u001b[0m \u001b[32m━━━━━━━━━━━━━━━━━━━━\u001b[0m\u001b[37m\u001b[0m \u001b[1m12s\u001b[0m 224ms/step - loss: 6.6811e-04 - val_loss: 0.0012 - learning_rate: 1.0000e-04\n",
            "Epoch 20/25\n",
            "\u001b[1m52/52\u001b[0m \u001b[32m━━━━━━━━━━━━━━━━━━━━\u001b[0m\u001b[37m\u001b[0m \u001b[1m21s\u001b[0m 226ms/step - loss: 6.7540e-04 - val_loss: 0.0012 - learning_rate: 1.0000e-04\n",
            "Epoch 21/25\n",
            "\u001b[1m52/52\u001b[0m \u001b[32m━━━━━━━━━━━━━━━━━━━━\u001b[0m\u001b[37m\u001b[0m \u001b[1m20s\u001b[0m 223ms/step - loss: 6.7192e-04 - val_loss: 0.0012 - learning_rate: 1.0000e-04\n",
            "Epoch 22/25\n",
            "\u001b[1m52/52\u001b[0m \u001b[32m━━━━━━━━━━━━━━━━━━━━\u001b[0m\u001b[37m\u001b[0m \u001b[1m20s\u001b[0m 216ms/step - loss: 6.9016e-04 - val_loss: 0.0012 - learning_rate: 1.0000e-04\n",
            "Epoch 23/25\n",
            "\u001b[1m52/52\u001b[0m \u001b[32m━━━━━━━━━━━━━━━━━━━━\u001b[0m\u001b[37m\u001b[0m \u001b[1m21s\u001b[0m 232ms/step - loss: 6.9557e-04 - val_loss: 0.0012 - learning_rate: 1.0000e-04\n",
            "Epoch 24/25\n",
            "\u001b[1m52/52\u001b[0m \u001b[32m━━━━━━━━━━━━━━━━━━━━\u001b[0m\u001b[37m\u001b[0m \u001b[1m21s\u001b[0m 233ms/step - loss: 6.4619e-04 - val_loss: 0.0013 - learning_rate: 1.0000e-04\n",
            "Epoch 25/25\n",
            "\u001b[1m52/52\u001b[0m \u001b[32m━━━━━━━━━━━━━━━━━━━━\u001b[0m\u001b[37m\u001b[0m \u001b[1m20s\u001b[0m 227ms/step - loss: 6.3909e-04 - val_loss: 0.0012 - learning_rate: 1.0000e-04\n"
          ]
        }
      ],
      "source": [
        "history_gru = model_gru.fit(x_train, y_train, epochs=25, batch_size=32, validation_split=0.1, callbacks=[ reduce_lr])"
      ]
    },
    {
      "cell_type": "markdown",
      "metadata": {
        "id": "JsWc4N1F8Tfd"
      },
      "source": [
        "# Plotting training and validation loss"
      ]
    },
    {
      "cell_type": "code",
      "execution_count": 11,
      "metadata": {
        "colab": {
          "base_uri": "https://localhost:8080/",
          "height": 472
        },
        "id": "HFGqdwQE42Bm",
        "outputId": "703c9cd2-bf04-4103-ac02-d79561546db4"
      },
      "outputs": [
        {
          "output_type": "display_data",
          "data": {
            "text/plain": [
              "<Figure size 640x480 with 1 Axes>"
            ],
            "image/png": "[encoded data removed]"
          },
          "metadata": {}
        }
      ],
      "source": [
        "plt.plot(history_gru.history['loss'])\n",
        "plt.plot(history_gru.history['val_loss'])\n",
        "plt.title('Model Loss')\n",
        "plt.xlabel('Epoch')\n",
        "plt.ylabel('Loss')\n",
        "plt.legend(['Train', 'Validation'], loc='upper right')\n",
        "plt.show()"
      ]
    },
    {
      "cell_type": "markdown",
      "metadata": {
        "id": "UbayhkWR8YVO"
      },
      "source": [
        "# Prediction and inverse transformation"
      ]
    },
    {
      "cell_type": "code",
      "execution_count": 12,
      "metadata": {
        "colab": {
          "base_uri": "https://localhost:8080/"
        },
        "id": "lVVPaRzs42KX",
        "outputId": "968c0cd7-5b0f-4fe9-e63b-b3322555d37c"
      },
      "outputs": [
        {
          "output_type": "stream",
          "name": "stdout",
          "text": [
            "\u001b[1m15/15\u001b[0m \u001b[32m━━━━━━━━━━━━━━━━━━━━\u001b[0m\u001b[37m\u001b[0m \u001b[1m2s\u001b[0m 87ms/step\n"
          ]
        }
      ],
      "source": [
        "y_pred_scaled_gru = model_gru.predict(x_test)\n",
        "y_pred_gru = scaler.inverse_transform(np.concatenate((y_pred_scaled_gru, x_test[:, -1, 1:]), axis=1))[:, 0]\n",
        "y_test_unscaled = scaler.inverse_transform(np.concatenate((y_test.reshape(-1, 1), x_test[:, -1, 1:]), axis=1))[:, 0]"
      ]
    },
    {
      "cell_type": "markdown",
      "metadata": {
        "id": "YxbUu0ib8fwV"
      },
      "source": [
        "# Evaluation metrics: MSE, RMSE, MAE, MAPE"
      ]
    },
    {
      "cell_type": "code",
      "execution_count": 13,
      "metadata": {
        "colab": {
          "base_uri": "https://localhost:8080/"
        },
        "id": "uRoRsuWt45xV",
        "outputId": "c8075390-be36-48c0-c80e-41b74ac8cb1c"
      },
      "outputs": [
        {
          "output_type": "stream",
          "name": "stdout",
          "text": [
            "Mean Squared Error (MSE) - GRU: 9405.39\n",
            "Root Mean Squared Error (RMSE) - GRU: 96.98\n",
            "Mean Absolute Error (MAE) - GRU: 83.16\n",
            "Mean Absolute Percentage Error (MAPE) - GRU: 3.50\n"
          ]
        }
      ],
      "source": [
        "mse_gru = mean_squared_error(y_test_unscaled, y_pred_gru)\n",
        "rmse_gru = np.sqrt(mse_gru)\n",
        "mae_gru = np.mean(np.abs(y_test_unscaled - y_pred_gru))\n",
        "mape_gru = np.mean(np.abs((y_test_unscaled - y_pred_gru) / y_test_unscaled)) * 100\n",
        "\n",
        "print(f'Mean Squared Error (MSE) - GRU: {mse_gru:.2f}')\n",
        "print(f'Root Mean Squared Error (RMSE) - GRU: {rmse_gru:.2f}')\n",
        "print(f'Mean Absolute Error (MAE) - GRU: {mae_gru:.2f}')\n",
        "print(f'Mean Absolute Percentage Error (MAPE) - GRU: {mape_gru:.2f}')"
      ]
    },
    {
      "cell_type": "markdown",
      "metadata": {
        "id": "rFEvyEff9BEe"
      },
      "source": [
        "# Accuracy Calculation (based on trend range)"
      ]
    },
    {
      "cell_type": "code",
      "execution_count": 14,
      "metadata": {
        "colab": {
          "base_uri": "https://localhost:8080/"
        },
        "id": "iNmsbt2q5CIY",
        "outputId": "d1d622c5-4458-4e5e-b914-94d5341d4612"
      },
      "outputs": [
        {
          "output_type": "stream",
          "name": "stdout",
          "text": [
            "Accuracy of Predicted Prices (GRU): 90.62%\n"
          ]
        }
      ],
      "source": [
        "absolute_difference_gru = np.abs(y_test_unscaled - y_pred_gru)\n",
        "\n",
        "mean_absolute_difference_gru = np.mean(absolute_difference_gru)\n",
        "\n",
        "price_range_gru = np.max(y_test_unscaled) - np.min(y_test_unscaled)\n",
        "\n",
        "accuracy_percentage_gru = (1 - (mean_absolute_difference_gru / price_range_gru)) * 100\n",
        "\n",
        "print(f'Accuracy of Predicted Prices (GRU): {accuracy_percentage_gru:.2f}%')\n"
      ]
    },
    {
      "cell_type": "markdown",
      "metadata": {
        "id": "Jq-08Ydn9ISv"
      },
      "source": [
        "# Visualization: True vs Predicted Price Trend"
      ]
    },
    {
      "cell_type": "code",
      "execution_count": 15,
      "metadata": {
        "colab": {
          "base_uri": "https://localhost:8080/",
          "height": 641
        },
        "id": "Yl2ntKfZ5Kp2",
        "outputId": "1aa394a7-4483-4734-85b1-47a36781c775"
      },
      "outputs": [
        {
          "output_type": "display_data",
          "data": {
            "text/plain": [
              "<Figure size 1400x700 with 1 Axes>"
            ],
            "image/png": "[encoded data removed]"
          },
          "metadata": {}
        }
      ],
      "source": [
        "plt.figure(figsize=(14, 7))\n",
        "plt.plot(y_test_unscaled, label='True Price trend')\n",
        "plt.plot(y_pred_gru, label='Predicted Price trend (GRU)')\n",
        "plt.title('True Price trend vs Predicted Price trend (GRU)')\n",
        "plt.xlabel('Time')\n",
        "plt.ylabel('Price trend')\n",
        "plt.legend()\n",
        "plt.show()"
      ]
    }
  ],
  "metadata": {
    "colab": {
      "provenance": []
    },
    "kernelspec": {
      "display_name": "Python 3",
      "name": "python3"
    },
    "language_info": {
      "name": "python"
    }
  },
  "nbformat": 4,
  "nbformat_minor": 0
}